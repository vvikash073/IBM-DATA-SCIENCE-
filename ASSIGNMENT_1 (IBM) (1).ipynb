{
 "cells": [
  {
   "cell_type": "code",
   "execution_count": 14,
   "id": "bc369716",
   "metadata": {},
   "outputs": [],
   "source": [
    "# Name: Peer-graded_Assignment_Submitting_My_Work"
   ]
  },
  {
   "cell_type": "code",
   "execution_count": 37,
   "id": "c31115ab",
   "metadata": {},
   "outputs": [],
   "source": [
    "#Exercise 2 - Create a markdown cell with the title of the notebook.\n",
    "\n",
    "\n",
    "## Data Science Tools and Ecosystem"
   ]
  },
  {
   "cell_type": "code",
   "execution_count": 39,
   "id": "e401e574",
   "metadata": {},
   "outputs": [],
   "source": [
    "#Exercise 3 - Create a markdown cell for an introduction. (1 pt)\n",
    "\n",
    "\n",
    "\n",
    "#In this notebook, Data Science Tools and Ecosystem are summarized.\n",
    "\n",
    "##Objectives\n",
    "\n",
    "###List popular languages that Data Scientists use.\n",
    "###List commonly used libraries used by Data Scientists.\n",
    "###Comment on Data Science tools."
   ]
  },
  {
   "cell_type": "code",
   "execution_count": 40,
   "id": "13ccc3e6",
   "metadata": {},
   "outputs": [],
   "source": [
    "#Exercise 4 - Create a markdown cell to list data science languages. (3 pts)\n",
    "\n",
    "\n",
    "\n",
    "#Some of the popular languages that Data Scientists use are:\n",
    "\n",
    "###Python.\n",
    "###R.\n",
    "###SQL.\n",
    "###Java.\n",
    "###Julia.\n",
    "###Scala.\n",
    "###C/C++.\n",
    "###JavaScript."
   ]
  },
  {
   "cell_type": "code",
   "execution_count": 41,
   "id": "60f2038c",
   "metadata": {},
   "outputs": [],
   "source": [
    "#Exercise 5 - Create a markdown cell to list data science libraries. (3 pts)\n",
    "\n",
    "\n",
    "\n",
    "#Some of the commonly used libraries used by Data Scientists include:\n",
    "\n",
    "###TensorFlow.\n",
    "###NumPy.\n",
    "###SciPy.\n",
    "###Pandas.\n",
    "###Matplotlib.\n",
    "###Keras.\n",
    "###SciKit-Learn.\n",
    "###PyTorch.\n",
    "###Scrapy.\n",
    "###BeautifulSoup."
   ]
  },
  {
   "cell_type": "code",
   "execution_count": 42,
   "id": "46f4e70b",
   "metadata": {},
   "outputs": [],
   "source": [
    "#Exercise 6 - Create a markdown cell with a table of Data Science tools. (3 pts)\n",
    "\n",
    "\n",
    "\n",
    "#Data Science Tools:\n",
    "\n",
    "###Data Science Tools\n",
    "###SAS. It is one of those data science tools which are specifically designed for statistical operation\n",
    "###Apache Spar"
   ]
  },
  {
   "cell_type": "code",
   "execution_count": 43,
   "id": "52a441ad",
   "metadata": {},
   "outputs": [],
   "source": [
    "#Exercise 7 - Create a markdown cell introducing arithmetic expression examples. (1 pt)\n",
    "\n",
    "\n",
    "\n",
    "##Below are a few examples of evaluating arithmetic expressions in Python"
   ]
  },
  {
   "cell_type": "code",
   "execution_count": 9,
   "id": "b62ed160",
   "metadata": {},
   "outputs": [
    {
     "data": {
      "text/plain": [
       "9"
      ]
     },
     "execution_count": 9,
     "metadata": {},
     "output_type": "execute_result"
    }
   ],
   "source": [
    "# Arithmetic operations\n",
    "code = compile(\"5 + 4\", \"<string>\", \"eval\")\n",
    "eval(code)"
   ]
  },
  {
   "cell_type": "code",
   "execution_count": 10,
   "id": "b8fdfab2",
   "metadata": {},
   "outputs": [
    {
     "data": {
      "text/plain": [
       "24"
      ]
     },
     "execution_count": 10,
     "metadata": {},
     "output_type": "execute_result"
    }
   ],
   "source": [
    "code1 = compile(\"(5 + 7) * 2\", \"<string>\", \"eval\")\n",
    "eval(code1)"
   ]
  },
  {
   "cell_type": "code",
   "execution_count": 11,
   "id": "8012afb1",
   "metadata": {},
   "outputs": [
    {
     "data": {
      "text/plain": [
       "65449.84694978735"
      ]
     },
     "execution_count": 11,
     "metadata": {},
     "output_type": "execute_result"
    }
   ],
   "source": [
    "import math\n",
    "# Volume of a sphere\n",
    "code2 = compile(\"4 / 3 * math.pi * math.pow(25, 3)\", \"<string>\", \"eval\")\n",
    "eval(code2)"
   ]
  },
  {
   "cell_type": "code",
   "execution_count": 32,
   "id": "76fdb839",
   "metadata": {},
   "outputs": [],
   "source": [
    "#Exercise 9 - Create a code cell to convert minutes to hours. (2 pts)\n",
    "\n",
    "\n",
    "##This will convert 200 minutes to hours by diving by 60"
   ]
  },
  {
   "cell_type": "code",
   "execution_count": 33,
   "id": "4707064f",
   "metadata": {},
   "outputs": [
    {
     "name": "stdout",
     "output_type": "stream",
     "text": [
      "0 days, 3.3333333333333335 hours, 0 mins. \n"
     ]
    }
   ],
   "source": [
    "days = 0\n",
    "hours = 0\n",
    "mins = 0\n",
    "\n",
    "time = 200\n",
    "#days = time / 1440\n",
    "leftover_minutes = time % 1440\n",
    "hours = leftover_minutes / 60\n",
    "#mins = time - (days*1440) - (hours*60)\n",
    "print(str(days) + \" days, \" + str(hours) + \" hours, \" + str(mins) +  \" mins. \")"
   ]
  },
  {
   "cell_type": "code",
   "execution_count": 35,
   "id": "a707ffec",
   "metadata": {},
   "outputs": [],
   "source": [
    "# Exercise 10 -Insert a markdown cell to list Objectives.\n",
    "\n",
    "##Below the introduction cell created in Exercise 3, \n",
    "#insert a new markdown cell to list the objectives that this notebook covered (i.e. some of the key takeaways from the course).\n",
    "#In this new cell start with an introductory line titled: Objectives: in bold font. \n",
    "#       Then using an unordered list (bullets) indicate 3 to 5 items covered in this notebook,\n",
    "#       such as List popular languages for Data Science."
   ]
  },
  {
   "cell_type": "code",
   "execution_count": 45,
   "id": "b75f334d",
   "metadata": {},
   "outputs": [],
   "source": [
    "#eXERCISE 11 - \n",
    "\n",
    "###Vikash Verma"
   ]
  },
  {
   "cell_type": "code",
   "execution_count": null,
   "id": "2e0ae813",
   "metadata": {},
   "outputs": [],
   "source": []
  }
 ],
 "metadata": {
  "kernelspec": {
   "display_name": "Python 3 (ipykernel)",
   "language": "python",
   "name": "python3"
  },
  "language_info": {
   "codemirror_mode": {
    "name": "ipython",
    "version": 3
   },
   "file_extension": ".py",
   "mimetype": "text/x-python",
   "name": "python",
   "nbconvert_exporter": "python",
   "pygments_lexer": "ipython3",
   "version": "3.8.13"
  }
 },
 "nbformat": 4,
 "nbformat_minor": 5
}
